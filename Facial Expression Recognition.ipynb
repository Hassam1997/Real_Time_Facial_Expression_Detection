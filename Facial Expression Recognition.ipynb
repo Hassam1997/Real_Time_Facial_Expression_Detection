{
 "cells": [
  {
   "cell_type": "code",
   "execution_count": 5,
   "id": "2f06974f",
   "metadata": {},
   "outputs": [
    {
     "name": "stdout",
     "output_type": "stream",
     "text": [
      "Retrieving notices: ...working... done\n",
      "Collecting package metadata (current_repodata.json): ...working... done\n",
      "Solving environment: ...working... unsuccessful initial attempt using frozen solve. Retrying with flexible solve.\n",
      "Collecting package metadata (repodata.json): ...working... done\n",
      "Solving environment: ...working... unsuccessful initial attempt using frozen solve. Retrying with flexible solve.\n"
     ]
    },
    {
     "name": "stderr",
     "output_type": "stream",
     "text": [
      "\n",
      "PackagesNotFoundError: The following packages are not available from current channels:\n",
      "\n",
      "  - keras_preprocessing\n",
      "\n",
      "Current channels:\n",
      "\n",
      "  - https://repo.anaconda.com/pkgs/main/win-64\n",
      "  - https://repo.anaconda.com/pkgs/main/noarch\n",
      "  - https://repo.anaconda.com/pkgs/r/win-64\n",
      "  - https://repo.anaconda.com/pkgs/r/noarch\n",
      "  - https://repo.anaconda.com/pkgs/msys2/win-64\n",
      "  - https://repo.anaconda.com/pkgs/msys2/noarch\n",
      "\n",
      "To search for alternate channels that may provide the conda package you're\n",
      "looking for, navigate to\n",
      "\n",
      "    https://anaconda.org\n",
      "\n",
      "and use the search bar at the top of the page.\n",
      "\n",
      "\n"
     ]
    }
   ],
   "source": [
    "!conda install keras_preprocessing"
   ]
  },
  {
   "cell_type": "code",
   "execution_count": 12,
   "id": "2be002c5",
   "metadata": {},
   "outputs": [],
   "source": []
  },
  {
   "cell_type": "code",
   "execution_count": 1,
   "id": "ca7679f9",
   "metadata": {},
   "outputs": [
    {
     "name": "stdout",
     "output_type": "stream",
     "text": [
      "WARNING:tensorflow:From C:\\Users\\Uzair\\anaconda3\\Lib\\site-packages\\keras\\src\\losses.py:2976: The name tf.losses.sparse_softmax_cross_entropy is deprecated. Please use tf.compat.v1.losses.sparse_softmax_cross_entropy instead.\n",
      "\n"
     ]
    }
   ],
   "source": [
    "from keras.utils import to_categorical\n",
    "from keras.preprocessing.image import load_img\n",
    "from keras.models import Sequential\n",
    "from keras.layers import Dense, Conv2D, Dropout, Flatten, MaxPooling2D\n",
    "import os\n",
    "import pandas as pd\n",
    "import numpy as np"
   ]
  },
  {
   "cell_type": "code",
   "execution_count": 2,
   "id": "64e05a05",
   "metadata": {},
   "outputs": [],
   "source": [
    "TRAIN_DIR = 'images/images/train'\n",
    "TEST_DIR = 'images/images/validation'"
   ]
  },
  {
   "cell_type": "code",
   "execution_count": 4,
   "id": "204f2bef",
   "metadata": {},
   "outputs": [],
   "source": [
    "#traverse through each folder and get path, label and return \n",
    "def createdataframe(dir):\n",
    "    image_paths = []\n",
    "    labels = []\n",
    "    for label in os.listdir(dir):\n",
    "        for imagename in os.listdir(os.path.join(dir,label)):\n",
    "            image_paths.append(os.path.join(dir,label,imagename))\n",
    "            labels.append(label)\n",
    "    return image_paths,labels"
   ]
  },
  {
   "cell_type": "code",
   "execution_count": 5,
   "id": "2d8d185c",
   "metadata": {},
   "outputs": [],
   "source": [
    "train = pd.DataFrame()\n",
    "train['image'], train['label'] = createdataframe(TRAIN_DIR)"
   ]
  },
  {
   "cell_type": "code",
   "execution_count": 6,
   "id": "278f6737",
   "metadata": {},
   "outputs": [
    {
     "name": "stdout",
     "output_type": "stream",
     "text": [
      "                                       image     label\n",
      "0            images/images/train\\angry\\0.jpg     angry\n",
      "1            images/images/train\\angry\\1.jpg     angry\n",
      "2           images/images/train\\angry\\10.jpg     angry\n",
      "3        images/images/train\\angry\\10002.jpg     angry\n",
      "4        images/images/train\\angry\\10016.jpg     angry\n",
      "...                                      ...       ...\n",
      "28816  images/images/train\\surprise\\9969.jpg  surprise\n",
      "28817  images/images/train\\surprise\\9985.jpg  surprise\n",
      "28818  images/images/train\\surprise\\9990.jpg  surprise\n",
      "28819  images/images/train\\surprise\\9992.jpg  surprise\n",
      "28820  images/images/train\\surprise\\9996.jpg  surprise\n",
      "\n",
      "[28821 rows x 2 columns]\n"
     ]
    }
   ],
   "source": [
    "print(train)"
   ]
  },
  {
   "cell_type": "code",
   "execution_count": 7,
   "id": "bbe21399",
   "metadata": {},
   "outputs": [],
   "source": [
    "test = pd.DataFrame()\n",
    "test['image'], test['label'] = createdataframe(TEST_DIR)"
   ]
  },
  {
   "cell_type": "code",
   "execution_count": 8,
   "id": "0eecdd75",
   "metadata": {},
   "outputs": [
    {
     "name": "stdout",
     "output_type": "stream",
     "text": [
      "                                           image     label\n",
      "0       images/images/validation\\angry\\10052.jpg     angry\n",
      "1       images/images/validation\\angry\\10065.jpg     angry\n",
      "2       images/images/validation\\angry\\10079.jpg     angry\n",
      "3       images/images/validation\\angry\\10095.jpg     angry\n",
      "4       images/images/validation\\angry\\10121.jpg     angry\n",
      "...                                          ...       ...\n",
      "7061  images/images/validation\\surprise\\9806.jpg  surprise\n",
      "7062  images/images/validation\\surprise\\9830.jpg  surprise\n",
      "7063  images/images/validation\\surprise\\9853.jpg  surprise\n",
      "7064  images/images/validation\\surprise\\9878.jpg  surprise\n",
      "7065   images/images/validation\\surprise\\993.jpg  surprise\n",
      "\n",
      "[7066 rows x 2 columns]\n"
     ]
    }
   ],
   "source": [
    "print(test)"
   ]
  },
  {
   "cell_type": "code",
   "execution_count": 9,
   "id": "c3614684",
   "metadata": {},
   "outputs": [],
   "source": [
    "from tqdm.notebook import tqdm"
   ]
  },
  {
   "cell_type": "code",
   "execution_count": 20,
   "id": "bd793f96",
   "metadata": {},
   "outputs": [],
   "source": [
    "def extract_features(images):\n",
    "    features = []\n",
    "    for image in tqdm(images):\n",
    "        img = load_img(image,grayscale =  True )\n",
    "        img = np.array(img)\n",
    "        features.append(img)\n",
    "    features = np.array(features)\n",
    "    features = features.reshape(len(features),48,48,1)\n",
    "    return features"
   ]
  },
  {
   "cell_type": "code",
   "execution_count": 21,
   "id": "e763cde4",
   "metadata": {},
   "outputs": [
    {
     "data": {
      "application/vnd.jupyter.widget-view+json": {
       "model_id": "6634c2f6080540a89614c84a95ba59cd",
       "version_major": 2,
       "version_minor": 0
      },
      "text/plain": [
       "  0%|          | 0/28821 [00:00<?, ?it/s]"
      ]
     },
     "metadata": {},
     "output_type": "display_data"
    }
   ],
   "source": [
    "train_features = extract_features(train['image']) "
   ]
  },
  {
   "cell_type": "code",
   "execution_count": 22,
   "id": "5e2e561a",
   "metadata": {},
   "outputs": [
    {
     "data": {
      "application/vnd.jupyter.widget-view+json": {
       "model_id": "a4c36c7951db4cc6a871adcefaf24188",
       "version_major": 2,
       "version_minor": 0
      },
      "text/plain": [
       "  0%|          | 0/7066 [00:00<?, ?it/s]"
      ]
     },
     "metadata": {},
     "output_type": "display_data"
    }
   ],
   "source": [
    "test_features = extract_features(test['image'])"
   ]
  },
  {
   "cell_type": "code",
   "execution_count": 23,
   "id": "96b83cb5",
   "metadata": {},
   "outputs": [],
   "source": [
    "x_train = train_features/255.0\n",
    "x_test = test_features/255.0"
   ]
  },
  {
   "cell_type": "code",
   "execution_count": 24,
   "id": "a1ad58b5",
   "metadata": {},
   "outputs": [],
   "source": [
    "from sklearn.preprocessing import LabelEncoder"
   ]
  },
  {
   "cell_type": "code",
   "execution_count": 25,
   "id": "b0c0587d",
   "metadata": {},
   "outputs": [
    {
     "data": {
      "text/html": [
       "<style>#sk-container-id-1 {color: black;}#sk-container-id-1 pre{padding: 0;}#sk-container-id-1 div.sk-toggleable {background-color: white;}#sk-container-id-1 label.sk-toggleable__label {cursor: pointer;display: block;width: 100%;margin-bottom: 0;padding: 0.3em;box-sizing: border-box;text-align: center;}#sk-container-id-1 label.sk-toggleable__label-arrow:before {content: \"▸\";float: left;margin-right: 0.25em;color: #696969;}#sk-container-id-1 label.sk-toggleable__label-arrow:hover:before {color: black;}#sk-container-id-1 div.sk-estimator:hover label.sk-toggleable__label-arrow:before {color: black;}#sk-container-id-1 div.sk-toggleable__content {max-height: 0;max-width: 0;overflow: hidden;text-align: left;background-color: #f0f8ff;}#sk-container-id-1 div.sk-toggleable__content pre {margin: 0.2em;color: black;border-radius: 0.25em;background-color: #f0f8ff;}#sk-container-id-1 input.sk-toggleable__control:checked~div.sk-toggleable__content {max-height: 200px;max-width: 100%;overflow: auto;}#sk-container-id-1 input.sk-toggleable__control:checked~label.sk-toggleable__label-arrow:before {content: \"▾\";}#sk-container-id-1 div.sk-estimator input.sk-toggleable__control:checked~label.sk-toggleable__label {background-color: #d4ebff;}#sk-container-id-1 div.sk-label input.sk-toggleable__control:checked~label.sk-toggleable__label {background-color: #d4ebff;}#sk-container-id-1 input.sk-hidden--visually {border: 0;clip: rect(1px 1px 1px 1px);clip: rect(1px, 1px, 1px, 1px);height: 1px;margin: -1px;overflow: hidden;padding: 0;position: absolute;width: 1px;}#sk-container-id-1 div.sk-estimator {font-family: monospace;background-color: #f0f8ff;border: 1px dotted black;border-radius: 0.25em;box-sizing: border-box;margin-bottom: 0.5em;}#sk-container-id-1 div.sk-estimator:hover {background-color: #d4ebff;}#sk-container-id-1 div.sk-parallel-item::after {content: \"\";width: 100%;border-bottom: 1px solid gray;flex-grow: 1;}#sk-container-id-1 div.sk-label:hover label.sk-toggleable__label {background-color: #d4ebff;}#sk-container-id-1 div.sk-serial::before {content: \"\";position: absolute;border-left: 1px solid gray;box-sizing: border-box;top: 0;bottom: 0;left: 50%;z-index: 0;}#sk-container-id-1 div.sk-serial {display: flex;flex-direction: column;align-items: center;background-color: white;padding-right: 0.2em;padding-left: 0.2em;position: relative;}#sk-container-id-1 div.sk-item {position: relative;z-index: 1;}#sk-container-id-1 div.sk-parallel {display: flex;align-items: stretch;justify-content: center;background-color: white;position: relative;}#sk-container-id-1 div.sk-item::before, #sk-container-id-1 div.sk-parallel-item::before {content: \"\";position: absolute;border-left: 1px solid gray;box-sizing: border-box;top: 0;bottom: 0;left: 50%;z-index: -1;}#sk-container-id-1 div.sk-parallel-item {display: flex;flex-direction: column;z-index: 1;position: relative;background-color: white;}#sk-container-id-1 div.sk-parallel-item:first-child::after {align-self: flex-end;width: 50%;}#sk-container-id-1 div.sk-parallel-item:last-child::after {align-self: flex-start;width: 50%;}#sk-container-id-1 div.sk-parallel-item:only-child::after {width: 0;}#sk-container-id-1 div.sk-dashed-wrapped {border: 1px dashed gray;margin: 0 0.4em 0.5em 0.4em;box-sizing: border-box;padding-bottom: 0.4em;background-color: white;}#sk-container-id-1 div.sk-label label {font-family: monospace;font-weight: bold;display: inline-block;line-height: 1.2em;}#sk-container-id-1 div.sk-label-container {text-align: center;}#sk-container-id-1 div.sk-container {/* jupyter's `normalize.less` sets `[hidden] { display: none; }` but bootstrap.min.css set `[hidden] { display: none !important; }` so we also need the `!important` here to be able to override the default hidden behavior on the sphinx rendered scikit-learn.org. See: https://github.com/scikit-learn/scikit-learn/issues/21755 */display: inline-block !important;position: relative;}#sk-container-id-1 div.sk-text-repr-fallback {display: none;}</style><div id=\"sk-container-id-1\" class=\"sk-top-container\"><div class=\"sk-text-repr-fallback\"><pre>LabelEncoder()</pre><b>In a Jupyter environment, please rerun this cell to show the HTML representation or trust the notebook. <br />On GitHub, the HTML representation is unable to render, please try loading this page with nbviewer.org.</b></div><div class=\"sk-container\" hidden><div class=\"sk-item\"><div class=\"sk-estimator sk-toggleable\"><input class=\"sk-toggleable__control sk-hidden--visually\" id=\"sk-estimator-id-1\" type=\"checkbox\" checked><label for=\"sk-estimator-id-1\" class=\"sk-toggleable__label sk-toggleable__label-arrow\">LabelEncoder</label><div class=\"sk-toggleable__content\"><pre>LabelEncoder()</pre></div></div></div></div></div>"
      ],
      "text/plain": [
       "LabelEncoder()"
      ]
     },
     "execution_count": 25,
     "metadata": {},
     "output_type": "execute_result"
    }
   ],
   "source": [
    "le = LabelEncoder()\n",
    "le.fit(train['label'])"
   ]
  },
  {
   "cell_type": "code",
   "execution_count": 26,
   "id": "6a188d11",
   "metadata": {},
   "outputs": [],
   "source": [
    "y_train = le.transform(train['label'])\n",
    "y_test = le.transform(test['label'])"
   ]
  },
  {
   "cell_type": "code",
   "execution_count": 27,
   "id": "fe995c1f",
   "metadata": {},
   "outputs": [],
   "source": [
    "y_train = to_categorical(y_train,num_classes = 7)\n",
    "y_test = to_categorical(y_test,num_classes = 7)"
   ]
  },
  {
   "cell_type": "code",
   "execution_count": 20,
   "id": "1846a0d1",
   "metadata": {},
   "outputs": [
    {
     "name": "stdout",
     "output_type": "stream",
     "text": [
      "WARNING:tensorflow:From C:\\Users\\Uzair\\anaconda3\\Lib\\site-packages\\keras\\src\\backend.py:873: The name tf.get_default_graph is deprecated. Please use tf.compat.v1.get_default_graph instead.\n",
      "\n",
      "WARNING:tensorflow:From C:\\Users\\Uzair\\anaconda3\\Lib\\site-packages\\keras\\src\\layers\\pooling\\max_pooling2d.py:161: The name tf.nn.max_pool is deprecated. Please use tf.nn.max_pool2d instead.\n",
      "\n"
     ]
    }
   ],
   "source": [
    "model = Sequential()\n",
    "# convolutional layers\n",
    "model.add(Conv2D(128, kernel_size=(3,3), activation='relu', input_shape=(48,48,1)))\n",
    "model.add(MaxPooling2D(pool_size=(2,2)))\n",
    "model.add(Dropout(0.4))\n",
    "\n",
    "model.add(Conv2D(256, kernel_size=(3,3), activation='relu'))\n",
    "model.add(MaxPooling2D(pool_size=(2,2)))\n",
    "model.add(Dropout(0.4))\n",
    "\n",
    "model.add(Conv2D(512, kernel_size=(3,3), activation='relu'))\n",
    "model.add(MaxPooling2D(pool_size=(2,2)))\n",
    "model.add(Dropout(0.4))\n",
    "\n",
    "model.add(Conv2D(512, kernel_size=(3,3), activation='relu'))\n",
    "model.add(MaxPooling2D(pool_size=(2,2)))\n",
    "model.add(Dropout(0.4))\n",
    "\n",
    "model.add(Flatten())\n",
    "# fully connected layers\n",
    "model.add(Dense(512, activation='relu'))\n",
    "model.add(Dropout(0.4))\n",
    "model.add(Dense(256, activation='relu'))\n",
    "model.add(Dropout(0.3))\n",
    "# output layer\n",
    "model.add(Dense(7, activation='softmax'))"
   ]
  },
  {
   "cell_type": "code",
   "execution_count": 21,
   "id": "060f159c",
   "metadata": {},
   "outputs": [
    {
     "name": "stdout",
     "output_type": "stream",
     "text": [
      "WARNING:tensorflow:From C:\\Users\\Uzair\\anaconda3\\Lib\\site-packages\\keras\\src\\optimizers\\__init__.py:309: The name tf.train.Optimizer is deprecated. Please use tf.compat.v1.train.Optimizer instead.\n",
      "\n"
     ]
    }
   ],
   "source": [
    "model.compile(optimizer = 'adam', loss = 'categorical_crossentropy', metrics = 'accuracy' )"
   ]
  },
  {
   "cell_type": "code",
   "execution_count": 22,
   "id": "134b9f09",
   "metadata": {},
   "outputs": [
    {
     "name": "stdout",
     "output_type": "stream",
     "text": [
      "Epoch 1/100\n",
      "WARNING:tensorflow:From C:\\Users\\Uzair\\anaconda3\\Lib\\site-packages\\keras\\src\\utils\\tf_utils.py:492: The name tf.ragged.RaggedTensorValue is deprecated. Please use tf.compat.v1.ragged.RaggedTensorValue instead.\n",
      "\n",
      "WARNING:tensorflow:From C:\\Users\\Uzair\\anaconda3\\Lib\\site-packages\\keras\\src\\engine\\base_layer_utils.py:384: The name tf.executing_eagerly_outside_functions is deprecated. Please use tf.compat.v1.executing_eagerly_outside_functions instead.\n",
      "\n",
      "226/226 [==============================] - 240s 1s/step - loss: 1.8221 - accuracy: 0.2438 - val_loss: 1.8054 - val_accuracy: 0.2590\n",
      "Epoch 2/100\n",
      "226/226 [==============================] - 235s 1s/step - loss: 1.7831 - accuracy: 0.2590 - val_loss: 1.7240 - val_accuracy: 0.2966\n",
      "Epoch 3/100\n",
      "226/226 [==============================] - 234s 1s/step - loss: 1.6781 - accuracy: 0.3248 - val_loss: 1.5208 - val_accuracy: 0.4135\n",
      "Epoch 4/100\n",
      "226/226 [==============================] - 233s 1s/step - loss: 1.5534 - accuracy: 0.3910 - val_loss: 1.4227 - val_accuracy: 0.4564\n",
      "Epoch 5/100\n",
      "226/226 [==============================] - 233s 1s/step - loss: 1.4826 - accuracy: 0.4246 - val_loss: 1.3570 - val_accuracy: 0.4868\n",
      "Epoch 6/100\n",
      "226/226 [==============================] - 234s 1s/step - loss: 1.4288 - accuracy: 0.4502 - val_loss: 1.3057 - val_accuracy: 0.4977\n",
      "Epoch 7/100\n",
      "226/226 [==============================] - 234s 1s/step - loss: 1.3933 - accuracy: 0.4620 - val_loss: 1.2979 - val_accuracy: 0.5016\n",
      "Epoch 8/100\n",
      "226/226 [==============================] - 233s 1s/step - loss: 1.3523 - accuracy: 0.4804 - val_loss: 1.2480 - val_accuracy: 0.5243\n",
      "Epoch 9/100\n",
      "226/226 [==============================] - 234s 1s/step - loss: 1.3312 - accuracy: 0.4904 - val_loss: 1.2292 - val_accuracy: 0.5342\n",
      "Epoch 10/100\n",
      "226/226 [==============================] - 234s 1s/step - loss: 1.3161 - accuracy: 0.4956 - val_loss: 1.2082 - val_accuracy: 0.5446\n",
      "Epoch 11/100\n",
      "226/226 [==============================] - 234s 1s/step - loss: 1.2823 - accuracy: 0.5059 - val_loss: 1.1919 - val_accuracy: 0.5474\n",
      "Epoch 12/100\n",
      "226/226 [==============================] - 236s 1s/step - loss: 1.2714 - accuracy: 0.5160 - val_loss: 1.1645 - val_accuracy: 0.5590\n",
      "Epoch 13/100\n",
      "226/226 [==============================] - 233s 1s/step - loss: 1.2524 - accuracy: 0.5215 - val_loss: 1.1754 - val_accuracy: 0.5568\n",
      "Epoch 14/100\n",
      "226/226 [==============================] - 235s 1s/step - loss: 1.2400 - accuracy: 0.5266 - val_loss: 1.1653 - val_accuracy: 0.5650\n",
      "Epoch 15/100\n",
      "226/226 [==============================] - 234s 1s/step - loss: 1.2208 - accuracy: 0.5363 - val_loss: 1.1538 - val_accuracy: 0.5667\n",
      "Epoch 16/100\n",
      "226/226 [==============================] - 235s 1s/step - loss: 1.2178 - accuracy: 0.5363 - val_loss: 1.1388 - val_accuracy: 0.5719\n",
      "Epoch 17/100\n",
      "226/226 [==============================] - 234s 1s/step - loss: 1.2032 - accuracy: 0.5439 - val_loss: 1.1311 - val_accuracy: 0.5795\n",
      "Epoch 18/100\n",
      "226/226 [==============================] - 234s 1s/step - loss: 1.1894 - accuracy: 0.5493 - val_loss: 1.1305 - val_accuracy: 0.5702\n",
      "Epoch 19/100\n",
      "226/226 [==============================] - 234s 1s/step - loss: 1.1796 - accuracy: 0.5515 - val_loss: 1.1213 - val_accuracy: 0.5819\n",
      "Epoch 20/100\n",
      "226/226 [==============================] - 235s 1s/step - loss: 1.1655 - accuracy: 0.5604 - val_loss: 1.1123 - val_accuracy: 0.5826\n",
      "Epoch 21/100\n",
      "226/226 [==============================] - 233s 1s/step - loss: 1.1599 - accuracy: 0.5559 - val_loss: 1.1124 - val_accuracy: 0.5824\n",
      "Epoch 22/100\n",
      "226/226 [==============================] - 234s 1s/step - loss: 1.1474 - accuracy: 0.5645 - val_loss: 1.0960 - val_accuracy: 0.5886\n",
      "Epoch 23/100\n",
      "226/226 [==============================] - 235s 1s/step - loss: 1.1436 - accuracy: 0.5662 - val_loss: 1.0997 - val_accuracy: 0.5903\n",
      "Epoch 24/100\n",
      "226/226 [==============================] - 234s 1s/step - loss: 1.1315 - accuracy: 0.5707 - val_loss: 1.0906 - val_accuracy: 0.5904\n",
      "Epoch 25/100\n",
      "226/226 [==============================] - 234s 1s/step - loss: 1.1170 - accuracy: 0.5723 - val_loss: 1.0931 - val_accuracy: 0.5853\n",
      "Epoch 26/100\n",
      "226/226 [==============================] - 233s 1s/step - loss: 1.1198 - accuracy: 0.5762 - val_loss: 1.0908 - val_accuracy: 0.5944\n",
      "Epoch 27/100\n",
      "226/226 [==============================] - 234s 1s/step - loss: 1.1083 - accuracy: 0.5788 - val_loss: 1.0896 - val_accuracy: 0.5928\n",
      "Epoch 28/100\n",
      "226/226 [==============================] - 233s 1s/step - loss: 1.1059 - accuracy: 0.5804 - val_loss: 1.0786 - val_accuracy: 0.5985\n",
      "Epoch 29/100\n",
      "226/226 [==============================] - 235s 1s/step - loss: 1.0930 - accuracy: 0.5857 - val_loss: 1.0723 - val_accuracy: 0.6009\n",
      "Epoch 30/100\n",
      "226/226 [==============================] - 234s 1s/step - loss: 1.0869 - accuracy: 0.5894 - val_loss: 1.0746 - val_accuracy: 0.5968\n",
      "Epoch 31/100\n",
      "226/226 [==============================] - 233s 1s/step - loss: 1.0799 - accuracy: 0.5904 - val_loss: 1.0703 - val_accuracy: 0.6010\n",
      "Epoch 32/100\n",
      "226/226 [==============================] - 234s 1s/step - loss: 1.0687 - accuracy: 0.5951 - val_loss: 1.0846 - val_accuracy: 0.5996\n",
      "Epoch 33/100\n",
      "226/226 [==============================] - 235s 1s/step - loss: 1.0685 - accuracy: 0.5936 - val_loss: 1.0628 - val_accuracy: 0.6101\n",
      "Epoch 34/100\n",
      "226/226 [==============================] - 232s 1s/step - loss: 1.0609 - accuracy: 0.5987 - val_loss: 1.0648 - val_accuracy: 0.6032\n",
      "Epoch 35/100\n",
      "226/226 [==============================] - 233s 1s/step - loss: 1.0648 - accuracy: 0.5996 - val_loss: 1.0706 - val_accuracy: 0.6003\n",
      "Epoch 36/100\n",
      "226/226 [==============================] - 233s 1s/step - loss: 1.0436 - accuracy: 0.6054 - val_loss: 1.0584 - val_accuracy: 0.6036\n",
      "Epoch 37/100\n",
      "226/226 [==============================] - 234s 1s/step - loss: 1.0416 - accuracy: 0.6064 - val_loss: 1.0722 - val_accuracy: 0.6032\n",
      "Epoch 38/100\n",
      "226/226 [==============================] - 233s 1s/step - loss: 1.0408 - accuracy: 0.6087 - val_loss: 1.0605 - val_accuracy: 0.6122\n",
      "Epoch 39/100\n",
      "226/226 [==============================] - 234s 1s/step - loss: 1.0326 - accuracy: 0.6099 - val_loss: 1.0560 - val_accuracy: 0.6085\n",
      "Epoch 40/100\n",
      "226/226 [==============================] - 234s 1s/step - loss: 1.0207 - accuracy: 0.6165 - val_loss: 1.0468 - val_accuracy: 0.6146\n",
      "Epoch 41/100\n",
      "226/226 [==============================] - 236s 1s/step - loss: 1.0186 - accuracy: 0.6161 - val_loss: 1.0543 - val_accuracy: 0.6077\n",
      "Epoch 42/100\n",
      "226/226 [==============================] - 234s 1s/step - loss: 1.0118 - accuracy: 0.6173 - val_loss: 1.0411 - val_accuracy: 0.6152\n",
      "Epoch 43/100\n",
      "226/226 [==============================] - 234s 1s/step - loss: 1.0067 - accuracy: 0.6217 - val_loss: 1.0504 - val_accuracy: 0.6142\n",
      "Epoch 44/100\n",
      "226/226 [==============================] - 234s 1s/step - loss: 1.0034 - accuracy: 0.6233 - val_loss: 1.0394 - val_accuracy: 0.6224\n",
      "Epoch 45/100\n",
      "226/226 [==============================] - 234s 1s/step - loss: 0.9965 - accuracy: 0.6258 - val_loss: 1.0526 - val_accuracy: 0.6144\n",
      "Epoch 46/100\n",
      "226/226 [==============================] - 234s 1s/step - loss: 0.9892 - accuracy: 0.6255 - val_loss: 1.0463 - val_accuracy: 0.6084\n",
      "Epoch 47/100\n",
      "226/226 [==============================] - 234s 1s/step - loss: 0.9910 - accuracy: 0.6263 - val_loss: 1.0574 - val_accuracy: 0.6139\n",
      "Epoch 48/100\n",
      "226/226 [==============================] - 234s 1s/step - loss: 0.9881 - accuracy: 0.6309 - val_loss: 1.0415 - val_accuracy: 0.6185\n",
      "Epoch 49/100\n",
      "226/226 [==============================] - 234s 1s/step - loss: 0.9687 - accuracy: 0.6321 - val_loss: 1.0357 - val_accuracy: 0.6224\n",
      "Epoch 50/100\n",
      "226/226 [==============================] - 234s 1s/step - loss: 0.9686 - accuracy: 0.6351 - val_loss: 1.0294 - val_accuracy: 0.6251\n",
      "Epoch 51/100\n",
      "226/226 [==============================] - 235s 1s/step - loss: 0.9658 - accuracy: 0.6352 - val_loss: 1.0509 - val_accuracy: 0.6159\n",
      "Epoch 52/100\n",
      "226/226 [==============================] - 280s 1s/step - loss: 0.9665 - accuracy: 0.6394 - val_loss: 1.0386 - val_accuracy: 0.6237\n",
      "Epoch 53/100\n",
      "226/226 [==============================] - 278s 1s/step - loss: 0.9574 - accuracy: 0.6397 - val_loss: 1.0400 - val_accuracy: 0.6180\n",
      "Epoch 54/100\n",
      "226/226 [==============================] - 282s 1s/step - loss: 0.9481 - accuracy: 0.6476 - val_loss: 1.0368 - val_accuracy: 0.6177\n",
      "Epoch 55/100\n",
      "226/226 [==============================] - 282s 1s/step - loss: 0.9416 - accuracy: 0.6455 - val_loss: 1.0405 - val_accuracy: 0.6168\n",
      "Epoch 56/100\n",
      "226/226 [==============================] - 268s 1s/step - loss: 0.9435 - accuracy: 0.6480 - val_loss: 1.0302 - val_accuracy: 0.6220\n",
      "Epoch 57/100\n",
      "226/226 [==============================] - 271s 1s/step - loss: 0.9346 - accuracy: 0.6507 - val_loss: 1.0319 - val_accuracy: 0.6216\n",
      "Epoch 58/100\n",
      "226/226 [==============================] - 249s 1s/step - loss: 0.9216 - accuracy: 0.6571 - val_loss: 1.0471 - val_accuracy: 0.6141\n",
      "Epoch 59/100\n",
      "226/226 [==============================] - 264s 1s/step - loss: 0.9249 - accuracy: 0.6543 - val_loss: 1.0214 - val_accuracy: 0.6248\n",
      "Epoch 60/100\n",
      "226/226 [==============================] - 238s 1s/step - loss: 0.9225 - accuracy: 0.6557 - val_loss: 1.0328 - val_accuracy: 0.6220\n",
      "Epoch 61/100\n",
      "226/226 [==============================] - 292s 1s/step - loss: 0.9124 - accuracy: 0.6584 - val_loss: 1.0202 - val_accuracy: 0.6306\n",
      "Epoch 62/100\n",
      "226/226 [==============================] - 234s 1s/step - loss: 0.9096 - accuracy: 0.6600 - val_loss: 1.0254 - val_accuracy: 0.6199\n",
      "Epoch 63/100\n",
      "226/226 [==============================] - 233s 1s/step - loss: 0.8989 - accuracy: 0.6652 - val_loss: 1.0336 - val_accuracy: 0.6243\n",
      "Epoch 64/100\n",
      "226/226 [==============================] - 233s 1s/step - loss: 0.9087 - accuracy: 0.6620 - val_loss: 1.0372 - val_accuracy: 0.6141\n",
      "Epoch 65/100\n",
      "226/226 [==============================] - 233s 1s/step - loss: 0.9063 - accuracy: 0.6613 - val_loss: 1.0286 - val_accuracy: 0.6298\n",
      "Epoch 66/100\n",
      "226/226 [==============================] - 233s 1s/step - loss: 0.8906 - accuracy: 0.6677 - val_loss: 1.0368 - val_accuracy: 0.6234\n",
      "Epoch 67/100\n",
      "226/226 [==============================] - 233s 1s/step - loss: 0.8985 - accuracy: 0.6678 - val_loss: 1.0377 - val_accuracy: 0.6258\n",
      "Epoch 68/100\n",
      "226/226 [==============================] - 241s 1s/step - loss: 0.8916 - accuracy: 0.6690 - val_loss: 1.0486 - val_accuracy: 0.6196\n",
      "Epoch 69/100\n",
      "226/226 [==============================] - 258s 1s/step - loss: 0.8811 - accuracy: 0.6716 - val_loss: 1.0470 - val_accuracy: 0.6169\n",
      "Epoch 70/100\n",
      "226/226 [==============================] - 244s 1s/step - loss: 0.8819 - accuracy: 0.6720 - val_loss: 1.0357 - val_accuracy: 0.6245\n",
      "Epoch 71/100\n",
      "226/226 [==============================] - 235s 1s/step - loss: 0.8677 - accuracy: 0.6769 - val_loss: 1.0378 - val_accuracy: 0.6267\n",
      "Epoch 72/100\n",
      "226/226 [==============================] - 236s 1s/step - loss: 0.8672 - accuracy: 0.6774 - val_loss: 1.0301 - val_accuracy: 0.6268\n",
      "Epoch 73/100\n",
      "226/226 [==============================] - 234s 1s/step - loss: 0.8603 - accuracy: 0.6840 - val_loss: 1.0342 - val_accuracy: 0.6252\n",
      "Epoch 74/100\n",
      "226/226 [==============================] - 234s 1s/step - loss: 0.8538 - accuracy: 0.6827 - val_loss: 1.0375 - val_accuracy: 0.6265\n",
      "Epoch 75/100\n",
      "226/226 [==============================] - 234s 1s/step - loss: 0.8458 - accuracy: 0.6868 - val_loss: 1.0356 - val_accuracy: 0.6279\n",
      "Epoch 76/100\n",
      "226/226 [==============================] - 236s 1s/step - loss: 0.8560 - accuracy: 0.6826 - val_loss: 1.0438 - val_accuracy: 0.6271\n",
      "Epoch 77/100\n",
      "226/226 [==============================] - 235s 1s/step - loss: 0.8464 - accuracy: 0.6878 - val_loss: 1.0360 - val_accuracy: 0.6289\n",
      "Epoch 78/100\n",
      "226/226 [==============================] - 234s 1s/step - loss: 0.8384 - accuracy: 0.6895 - val_loss: 1.0428 - val_accuracy: 0.6288\n",
      "Epoch 79/100\n",
      "226/226 [==============================] - 233s 1s/step - loss: 0.8348 - accuracy: 0.6900 - val_loss: 1.0290 - val_accuracy: 0.6332\n",
      "Epoch 80/100\n",
      "226/226 [==============================] - 234s 1s/step - loss: 0.8324 - accuracy: 0.6929 - val_loss: 1.0389 - val_accuracy: 0.6234\n",
      "Epoch 81/100\n",
      "226/226 [==============================] - 234s 1s/step - loss: 0.8244 - accuracy: 0.6943 - val_loss: 1.0383 - val_accuracy: 0.6288\n",
      "Epoch 82/100\n",
      "226/226 [==============================] - 234s 1s/step - loss: 0.8230 - accuracy: 0.6957 - val_loss: 1.0425 - val_accuracy: 0.6291\n",
      "Epoch 83/100\n",
      "226/226 [==============================] - 235s 1s/step - loss: 0.8210 - accuracy: 0.6974 - val_loss: 1.0398 - val_accuracy: 0.6291\n",
      "Epoch 84/100\n",
      "226/226 [==============================] - 234s 1s/step - loss: 0.8187 - accuracy: 0.6980 - val_loss: 1.0411 - val_accuracy: 0.6251\n",
      "Epoch 85/100\n",
      "226/226 [==============================] - 235s 1s/step - loss: 0.8070 - accuracy: 0.7011 - val_loss: 1.0373 - val_accuracy: 0.6316\n",
      "Epoch 86/100\n",
      "226/226 [==============================] - 233s 1s/step - loss: 0.8197 - accuracy: 0.6981 - val_loss: 1.0319 - val_accuracy: 0.6309\n",
      "Epoch 87/100\n",
      "226/226 [==============================] - 234s 1s/step - loss: 0.8226 - accuracy: 0.6974 - val_loss: 1.0294 - val_accuracy: 0.6319\n",
      "Epoch 88/100\n",
      "226/226 [==============================] - 234s 1s/step - loss: 0.7999 - accuracy: 0.7062 - val_loss: 1.0490 - val_accuracy: 0.6219\n",
      "Epoch 89/100\n",
      "226/226 [==============================] - 234s 1s/step - loss: 0.7972 - accuracy: 0.7067 - val_loss: 1.0421 - val_accuracy: 0.6308\n",
      "Epoch 90/100\n",
      "226/226 [==============================] - 258s 1s/step - loss: 0.7942 - accuracy: 0.7069 - val_loss: 1.0360 - val_accuracy: 0.6326\n",
      "Epoch 91/100\n",
      "226/226 [==============================] - 234s 1s/step - loss: 0.7939 - accuracy: 0.7105 - val_loss: 1.0376 - val_accuracy: 0.6315\n",
      "Epoch 92/100\n",
      "226/226 [==============================] - 235s 1s/step - loss: 0.7773 - accuracy: 0.7162 - val_loss: 1.0289 - val_accuracy: 0.6330\n",
      "Epoch 93/100\n",
      "226/226 [==============================] - 234s 1s/step - loss: 0.7729 - accuracy: 0.7172 - val_loss: 1.0398 - val_accuracy: 0.6281\n",
      "Epoch 94/100\n",
      "226/226 [==============================] - 236s 1s/step - loss: 0.7764 - accuracy: 0.7181 - val_loss: 1.0471 - val_accuracy: 0.6309\n",
      "Epoch 95/100\n",
      "226/226 [==============================] - 235s 1s/step - loss: 0.7780 - accuracy: 0.7173 - val_loss: 1.0396 - val_accuracy: 0.6329\n",
      "Epoch 96/100\n",
      "226/226 [==============================] - 234s 1s/step - loss: 0.7707 - accuracy: 0.7172 - val_loss: 1.0321 - val_accuracy: 0.6284\n",
      "Epoch 97/100\n",
      "226/226 [==============================] - 234s 1s/step - loss: 0.7807 - accuracy: 0.7155 - val_loss: 1.0246 - val_accuracy: 0.6313\n",
      "Epoch 98/100\n",
      "226/226 [==============================] - 235s 1s/step - loss: 0.7594 - accuracy: 0.7221 - val_loss: 1.0416 - val_accuracy: 0.6260\n",
      "Epoch 99/100\n",
      "226/226 [==============================] - 233s 1s/step - loss: 0.7615 - accuracy: 0.7192 - val_loss: 1.0354 - val_accuracy: 0.6275\n",
      "Epoch 100/100\n",
      "226/226 [==============================] - 234s 1s/step - loss: 0.7525 - accuracy: 0.7237 - val_loss: 1.0428 - val_accuracy: 0.6279\n"
     ]
    },
    {
     "data": {
      "text/plain": [
       "<keras.src.callbacks.History at 0x21947a516d0>"
      ]
     },
     "execution_count": 22,
     "metadata": {},
     "output_type": "execute_result"
    }
   ],
   "source": [
    "model.fit(x= x_train,y = y_train, batch_size = 128, epochs = 100, validation_data = (x_test,y_test))"
   ]
  },
  {
   "cell_type": "code",
   "execution_count": 23,
   "id": "eafa49a8",
   "metadata": {
    "scrolled": true
   },
   "outputs": [
    {
     "name": "stderr",
     "output_type": "stream",
     "text": [
      "C:\\Users\\Uzair\\anaconda3\\Lib\\site-packages\\keras\\src\\engine\\training.py:3103: UserWarning: You are saving your model as an HDF5 file via `model.save()`. This file format is considered legacy. We recommend using instead the native Keras format, e.g. `model.save('my_model.keras')`.\n",
      "  saving_api.save_model(\n"
     ]
    }
   ],
   "source": [
    "model_json = model.to_json()\n",
    "with open(\"emotiondetector.json\",'w') as json_file:\n",
    "    json_file.write(model_json)\n",
    "model.save(\"emotiondetector.h5\")"
   ]
  },
  {
   "cell_type": "code",
   "execution_count": 24,
   "id": "d77e5d22",
   "metadata": {},
   "outputs": [],
   "source": [
    "from keras.models import model_from_json"
   ]
  },
  {
   "cell_type": "code",
   "execution_count": 27,
   "id": "1b69d77b",
   "metadata": {},
   "outputs": [],
   "source": [
    "json_file = open(\"emotiondetector.json\", \"r\")\n",
    "model_json = json_file.read()\n",
    "json_file.close()\n",
    "model = model_from_json(model_json)\n",
    "model.load_weights(\"emotiondetector.h5\")"
   ]
  },
  {
   "cell_type": "code",
   "execution_count": 28,
   "id": "6f6f29d2",
   "metadata": {},
   "outputs": [],
   "source": [
    "label = ['angry','disgust','fear','happy','neutral','sad','surprise']"
   ]
  },
  {
   "cell_type": "code",
   "execution_count": 29,
   "id": "f16e2b9b",
   "metadata": {},
   "outputs": [],
   "source": [
    "def extract_feature_single_img(image):\n",
    "    img = load_img(image,grayscale =  True )\n",
    "    feature = np.array(img)\n",
    "    feature = feature.reshape(1,48,48,1)\n",
    "    return feature/255.0"
   ]
  },
  {
   "cell_type": "code",
   "execution_count": 39,
   "id": "d26e4f0a",
   "metadata": {},
   "outputs": [
    {
     "name": "stdout",
     "output_type": "stream",
     "text": [
      "Actual Label is sad\n",
      "1/1 [==============================] - 0s 61ms/step\n",
      "Model's predicted label is  sad\n"
     ]
    },
    {
     "data": {
      "text/plain": [
       "<matplotlib.image.AxesImage at 0x2196b24f250>"
      ]
     },
     "execution_count": 39,
     "metadata": {},
     "output_type": "execute_result"
    },
    {
     "data": {
      "image/png": "[encoded data removed]",
      "text/plain": [
       "<Figure size 640x480 with 1 Axes>"
      ]
     },
     "metadata": {},
     "output_type": "display_data"
    }
   ],
   "source": [
    "image = 'images/train/sad/321.jpg'\n",
    "print(\"Actual Label is sad\")\n",
    "img = extract_feature_single_img(image)\n",
    "pred = model.predict(img)\n",
    "pred_label = label[pred.argmax()]\n",
    "print(\"Model's predicted label is \",pred_label)\n",
    "plt.imshow(img.reshape(48,48),cmap='gray')"
   ]
  },
  {
   "cell_type": "code",
   "execution_count": 53,
   "id": "f0e570a8",
   "metadata": {},
   "outputs": [
    {
     "name": "stdout",
     "output_type": "stream",
     "text": [
      "Actual Label is Fear\n",
      "1/1 [==============================] - 0s 57ms/step\n",
      "model prediction is  fear\n"
     ]
    },
    {
     "data": {
      "text/plain": [
       "<matplotlib.image.AxesImage at 0x21965219350>"
      ]
     },
     "execution_count": 53,
     "metadata": {},
     "output_type": "execute_result"
    },
    {
     "data": {
      "image/png": "[encoded data removed]",
      "text/plain": [
       "<Figure size 640x480 with 1 Axes>"
      ]
     },
     "metadata": {},
     "output_type": "display_data"
    }
   ],
   "source": [
    "image = 'images/train/fear/173.jpg'\n",
    "print(\"Actual Label is Fear\")\n",
    "img = extract_feature_single_img(image)\n",
    "pred = model.predict(img)\n",
    "pred_label = label[pred.argmax()]\n",
    "print(\"model prediction is \",pred_label)\n",
    "plt.imshow(img.reshape(48,48),cmap='gray')"
   ]
  },
  {
   "cell_type": "code",
   "execution_count": null,
   "id": "7101db5e",
   "metadata": {},
   "outputs": [],
   "source": []
  }
 ],
 "metadata": {
  "kernelspec": {
   "display_name": "Python 3 (ipykernel)",
   "language": "python",
   "name": "python3"
  },
  "language_info": {
   "codemirror_mode": {
    "name": "ipython",
    "version": 3
   },
   "file_extension": ".py",
   "mimetype": "text/x-python",
   "name": "python",
   "nbconvert_exporter": "python",
   "pygments_lexer": "ipython3",
   "version": "3.11.5"
  }
 },
 "nbformat": 4,
 "nbformat_minor": 5
}
